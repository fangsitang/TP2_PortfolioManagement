{
 "cells": [
  {
   "cell_type": "markdown",
   "id": "33b0d0ed5c04764d",
   "metadata": {},
   "source": [
    "### Clean preliminary data"
   ]
  },
  {
   "cell_type": "code",
   "execution_count": 2,
   "id": "initial_id",
   "metadata": {
    "ExecuteTime": {
     "end_time": "2025-03-27T16:20:11.288608Z",
     "start_time": "2025-03-27T16:20:07.942436Z"
    }
   },
   "outputs": [],
   "source": [
    "import pandas as pd\n",
    "import numpy as np\n",
    "#from ccxt.static_dependencies.lark.parsers.cyk import print_parse\n",
    "\n",
    "# 1--DATA CLEANING\n",
    "# region\n",
    "\n",
    "# read file\n",
    "file_path = '48_industry_portfolios.xlsx'\n",
    "\n",
    "# create dataframes to work with\n",
    "df_number_firms = pd.read_excel(file_path, sheet_name='number_firms', index_col=0) #market cap\n",
    "df_firm_size = pd.read_excel(file_path, sheet_name='firm_size', index_col=0) #firm size\n",
    "df_sum_BE = pd.read_excel(file_path, sheet_name='sum_BE', index_col=0) #sum of book equity\n",
    "df_avg_ind_rets = pd.read_excel(file_path, sheet_name='avg_ind_rets', index_col=0) #average returns\n",
    "\n",
    "# Convert index to string format YYYY-MM\n",
    "for df in [df_number_firms, df_firm_size,df_sum_BE, df_avg_ind_rets]:\n",
    "    df.index = df.index.astype(str)\n",
    "    df.index = df.index.str[:4] + '-' + df.index.str[4:]\n",
    "\n",
    "# Convert index to string format YYYY\n",
    "df_sum_BE\n",
    "df_sum_BE.index = df_sum_BE.index.astype(str)\n",
    "df_sum_BE.index = df_sum_BE.index.str[:4]\n",
    "\n",
    "# endregion\n"
   ]
  },
  {
   "cell_type": "markdown",
   "id": "fb63676d8546ff24",
   "metadata": {},
   "source": [
    "### Standardize factor data "
   ]
  },
  {
   "cell_type": "code",
   "execution_count": 4,
   "id": "72a753734d6e1b30",
   "metadata": {
    "ExecuteTime": {
     "end_time": "2025-03-27T16:20:14.451393Z",
     "start_time": "2025-03-27T16:20:14.228926Z"
    }
   },
   "outputs": [],
   "source": [
    "# 1.1--MARKET CAP\n",
    "# region\n",
    "df_market_cap = df_firm_size * df_number_firms\n",
    "# endregion\n",
    "\n",
    "# 1.2--BOOK TO MARKET RATIO\n",
    "# region\n",
    "\n",
    "# Expand annual Book-to-Market ratio (Sum BE / Sum ME) to monthly values\n",
    "bm_monthly = []\n",
    "for year in df_sum_BE.index.astype(int):\n",
    "    for month in range(7, 13):  # July to December of year s\n",
    "        bm_monthly.append([f\"{year}-{month:02d}\"] + list(df_sum_BE.loc[str(year)]))\n",
    "    for month in range(1, 7):  # January to June of year s+1\n",
    "        bm_monthly.append([f\"{year+1}-{month:02d}\"] + list(df_sum_BE.loc[str(year)]))\n",
    "\n",
    "# Convert to DataFrame with YYYY-MM index\n",
    "df_BM_monthly = pd.DataFrame(bm_monthly, columns=[\"Date\"] + list(df_sum_BE.columns))\n",
    "df_BM_monthly.set_index(\"Date\", inplace=True)\n",
    "\n",
    "# Ensure df_BM_monthly index matches df_market_cap index\n",
    "df_BM_monthly = df_BM_monthly.loc[df_market_cap.index]\n",
    "df_book_to_market = df_BM_monthly  # Element-wise multiplication\n",
    "\n",
    "# endregion\n",
    "\n",
    "# 1.3--MOMENTUM\n",
    "# region\n",
    "# Compute momentum for each industry\n",
    "df_momentum = pd.DataFrame(index=df_avg_ind_rets.index, columns=df_avg_ind_rets.columns)\n",
    "\n",
    "# Iterate over each month and industry to compute momentum\n",
    "for date in df_avg_ind_rets.index:\n",
    "    # Get the last 12 months' data up to the current month\n",
    "    momentum_data = df_avg_ind_rets.loc[df_avg_ind_rets.index <= date].tail(12)\n",
    "\n",
    "    # Calculate the average of the last 12 months for each industry\n",
    "    df_momentum.loc[date] = momentum_data.mean(axis=0)\n",
    "\n",
    "# endregion\n"
   ]
  },
  {
   "cell_type": "code",
   "execution_count": 5,
   "id": "79a84dcce4584a49",
   "metadata": {
    "ExecuteTime": {
     "end_time": "2025-03-27T16:20:18.366778Z",
     "start_time": "2025-03-27T16:20:17.178401Z"
    }
   },
   "outputs": [
    {
     "name": "stdout",
     "output_type": "stream",
     "text": [
      "            Agric     Food      Soda      Beer      Smoke     Toys      Fun    \\\n",
      "1926-07 -0.079856 -0.312145       NaN -0.860347 -0.191355  0.568489 -0.066435   \n",
      "1926-08 -0.187603 -0.300702       NaN  0.895636  0.012834  1.123091 -0.367305   \n",
      "1926-09 -0.196809  -0.17616       NaN  1.091062  0.099348  1.558895  0.046842   \n",
      "1926-10 -0.025496 -0.173918       NaN   0.95606  0.312722  1.464938 -0.051353   \n",
      "1926-11  0.170833 -0.014388       NaN   1.24688  0.410077   1.38745 -0.128497   \n",
      "...           ...       ...       ...       ...       ...       ...       ...   \n",
      "2024-08  0.126331 -1.056603 -0.374056 -1.750122  0.845456 -1.843031  0.626719   \n",
      "2024-09 -0.244267 -1.092687 -0.347186 -1.637629  0.351474 -1.437069  1.102253   \n",
      "2024-10  0.313071  -1.31841 -1.077843 -2.030634  1.134644 -0.686375  1.144849   \n",
      "2024-11  0.756971 -1.448882 -1.278443 -2.184167   0.99291 -0.698808  1.406331   \n",
      "2024-12  0.700483  -1.16751 -0.701861 -1.639907  1.230918 -0.925912  1.878776   \n",
      "\n",
      "            Books     Hshld     Clths     Hlth      MedEq     Drugs     Chems  \\\n",
      "1926-07  4.859127 -0.374089  0.509642       NaN  0.186502 -0.230586  0.515837   \n",
      "1926-08  5.378762 -0.731736 -0.126655       NaN  0.098286 -0.151789  0.380406   \n",
      "1926-09  4.773557 -0.631015 -0.136043       NaN   0.34241 -0.144893  0.684583   \n",
      "1926-10  4.633015 -0.624358  0.057766       NaN  0.650423 -0.047216  0.524755   \n",
      "1926-11  4.411626 -0.869382 -0.009426       NaN  0.757918  0.093107  0.671923   \n",
      "...           ...       ...       ...       ...       ...       ...       ...   \n",
      "2024-08  0.170225 -0.574504 -1.521875 -0.033149 -0.266517  0.265328  -0.86786   \n",
      "2024-09 -0.076694 -0.484411 -1.186369  0.005113 -0.214579 -0.191488 -0.607122   \n",
      "2024-10 -0.052882 -1.117208 -2.226003 -0.407901 -0.016433 -0.317506  -0.63243   \n",
      "2024-11  -0.14664 -0.855161 -2.265865 -0.643873 -0.233973 -0.752334 -0.926295   \n",
      "2024-12 -0.252409 -0.357686 -1.446899 -1.197878 -0.129586 -0.596584 -1.315302   \n",
      "\n",
      "            Rubbr     Txtls     BldMt     Cnstr     Steel     FabPr     Mach   \\\n",
      "1926-07       NaN  -0.28427 -0.070564 -1.172131  0.095651       NaN  0.236057   \n",
      "1926-08       NaN  0.048648 -0.031149 -0.529414 -0.084557       NaN -0.006016   \n",
      "1926-09       NaN  0.194331 -0.022772 -1.177903  -0.05758       NaN  0.028554   \n",
      "1926-10       NaN  0.392881 -0.077728 -1.305965 -0.078762       NaN   0.25325   \n",
      "1926-11       NaN   0.41559 -0.135663 -1.442134 -0.045258       NaN  0.271162   \n",
      "...           ...       ...       ...       ...       ...       ...       ...   \n",
      "2024-08 -1.292165  1.617253  0.752548  1.912803 -0.527684 -2.622874 -0.112157   \n",
      "2024-09 -1.179772  1.867546  1.073225  2.195435  -0.53719 -2.313857  0.230743   \n",
      "2024-10  -0.76219  1.107671  1.377397  2.304673  -0.57411 -0.940064  0.342231   \n",
      "2024-11 -1.192519  1.311251  1.051366  1.767635 -0.521325  1.233779  0.188604   \n",
      "2024-12 -1.021066  0.290173   0.25508  0.464285 -1.467819  1.497484 -0.183574   \n",
      "\n",
      "            ElcEq     Autos     Aero      Ships     Guns      Gold      Mines  \\\n",
      "1926-07  0.003768  1.367563 -0.391639 -0.216132       NaN       NaN  0.257738   \n",
      "1926-08 -0.144877  0.818979 -0.930916 -0.297561       NaN       NaN -0.087699   \n",
      "1926-09 -0.156102  1.066874 -1.279375 -0.096517       NaN       NaN  0.033273   \n",
      "1926-10 -0.262351  0.695932 -1.641597 -0.195639       NaN       NaN  0.034494   \n",
      "1926-11   -0.1737  0.531353 -1.559551  0.052314       NaN       NaN  0.329043   \n",
      "...           ...       ...       ...       ...       ...       ...       ...   \n",
      "2024-08 -1.139269 -1.741344  0.485528  1.155638  0.824972  1.661146   0.04586   \n",
      "2024-09 -0.939628 -0.919177  0.530922  1.166248  1.173505  1.519866   0.66155   \n",
      "2024-10 -0.288346 -0.070378  0.022933  0.917404  0.177479  0.428252  0.901367   \n",
      "2024-11  -0.14171  1.049958 -0.467095  0.796411   1.10278 -0.745291  0.341437   \n",
      "2024-12 -0.701861  2.287737 -0.168052  0.613427  1.256562 -0.730205 -0.421797   \n",
      "\n",
      "            Coal      Oil       Util      Telcm     PerSv     BusSv     Comps  \\\n",
      "1926-07 -0.165545 -0.469069  0.402273 -0.238845       NaN  0.279418  0.063647   \n",
      "1926-08 -0.326464 -0.332747 -0.140479 -0.288136       NaN -0.014185  -0.01607   \n",
      "1926-09 -0.275863 -0.517154  0.001416 -0.115395       NaN  0.047432  0.247427   \n",
      "1926-10   0.04432 -0.336304  0.036046  0.063972       NaN  0.305999  0.259973   \n",
      "1926-11 -0.153304 -0.529258  0.068852 -0.016041       NaN  0.195089   0.28384   \n",
      "...           ...       ...       ...       ...       ...       ...       ...   \n",
      "2024-08  0.244113 -1.136343  0.415298 -0.547436  0.621598  0.354578  0.374331   \n",
      "2024-09 -1.674574 -1.929232  0.575124 -0.395347  0.623945  0.360051  0.428663   \n",
      "2024-10 -1.329345 -1.877546   0.44356 -0.413733  0.655697  0.232153  0.383054   \n",
      "2024-11 -1.411555 -1.163643  0.586531 -0.163543  0.521736 -0.083254  0.556247   \n",
      "2024-12 -1.948989 -0.809163  0.817233   0.05195 -0.027008  0.560114  0.962326   \n",
      "\n",
      "            Chips     LabEq     Paper     Boxes     Trans     Whlsl     Rtail  \\\n",
      "1926-07  -0.18929  -0.18516       NaN  0.470411 -0.126314 -2.780604 -0.317307   \n",
      "1926-08 -0.689638  0.041108       NaN -0.142364 -0.051256  -1.63276 -0.519361   \n",
      "1926-09 -0.990887  0.014395       NaN -0.447539 -0.030442 -1.984371 -0.459928   \n",
      "1926-10 -0.900518  0.194294       NaN  -0.48421  0.008636 -2.364059  -0.34613   \n",
      "1926-11 -1.061769  0.267303       NaN -0.478543 -0.076128 -2.436595 -0.183623   \n",
      "...           ...       ...       ...       ...       ...       ...       ...   \n",
      "2024-08  1.743081 -0.209455  0.132915  0.309222  -0.44136 -0.089479  0.522837   \n",
      "2024-09  1.781781 -0.101104   0.01171  0.179283 -0.414479  -0.43559   0.66089   \n",
      "2024-10  2.084518 -0.131613 -0.212531   0.02512 -0.029554 -0.692936   0.45085   \n",
      "2024-11  1.443659 -0.738248 -0.383283 -0.191715 -0.218478 -0.314262  0.749224   \n",
      "2024-12  2.102827 -0.616155 -0.232163 -0.105291 -0.436644   -0.2956  1.164782   \n",
      "\n",
      "            Meals     Banks     Insur     RlEst     Fin       Other  \n",
      "1926-07 -0.131476  0.151401 -0.380283 -0.026171 -0.920226  0.212312  \n",
      "1926-08 -0.367305  0.556338 -0.349084  0.037967 -0.819074  0.274847  \n",
      "1926-09 -0.364946  0.432083 -0.272323 -0.131914 -1.039854  0.043303  \n",
      "1926-10 -0.361645 -0.061696 -0.289243 -0.241665  -0.78933 -0.230288  \n",
      "1926-11 -0.320885 -0.403573 -0.285053  -0.30986 -0.732671 -0.199058  \n",
      "...           ...       ...       ...       ...       ...       ...  \n",
      "2024-08 -0.641076  1.112476  0.687439  0.206072  0.700607  0.873987  \n",
      "2024-09  -0.41118  0.645056 -0.101104   0.78558  0.548075  0.393697  \n",
      "2024-10  -0.53839  1.134644 -0.842379  1.416034  1.383229  0.205909  \n",
      "2024-11 -0.539637  1.180252 -0.423428  1.298574   1.46197  0.335802  \n",
      "2024-12 -0.250384  1.002142 -0.221366  0.359683  1.176929  0.695759  \n",
      "\n",
      "[1182 rows x 48 columns]\n"
     ]
    }
   ],
   "source": [
    "# 2--STANDARDIZE DATA\n",
    "\n",
    "def standardize_monthly(df):\n",
    "    df_standardized = pd.DataFrame(index=df.index, columns=df.columns)\n",
    "\n",
    "    for date in df.index:\n",
    "        values = df.loc[date]\n",
    "        # Exclude invalid values\n",
    "        valid_values = values[(values != -99.99) & (values != -0.0)]\n",
    "\n",
    "        mean_val = valid_values.mean()\n",
    "        std_val = valid_values.std()\n",
    "\n",
    "        # Standardize only valid values\n",
    "        standardized_values = (valid_values - mean_val) / std_val\n",
    "\n",
    "        # Store back\n",
    "        df_standardized.loc[date, standardized_values.index] = standardized_values\n",
    "\n",
    "    return df_standardized\n",
    "\n",
    "# Apply standardization\n",
    "standardized_market_cap = standardize_monthly(df_market_cap)\n",
    "standardized_book_to_market = standardize_monthly(df_book_to_market)\n",
    "standardized_momentum = standardize_monthly(df_momentum)\n",
    "\n",
    "pd.set_option('display.max_columns', None)\n",
    "print(standardized_momentum)\n"
   ]
  },
  {
   "cell_type": "markdown",
   "id": "d417265213514fed",
   "metadata": {},
   "source": [
    "### Create tracker for Nt\n",
    "This will be used to dynamically update Nt when we construct the parametric portfolio weights."
   ]
  },
  {
   "cell_type": "code",
   "execution_count": 7,
   "id": "4ec7c632861d1200",
   "metadata": {
    "ExecuteTime": {
     "end_time": "2025-03-27T16:20:36.609818Z",
     "start_time": "2025-03-27T16:20:36.577435Z"
    }
   },
   "outputs": [
    {
     "name": "stdout",
     "output_type": "stream",
     "text": [
      "         Nt\n",
      "1926-07  40\n",
      "1926-08  40\n",
      "1926-09  40\n",
      "1926-10  40\n",
      "1926-11  40\n"
     ]
    }
   ],
   "source": [
    "# Ensure same size\n",
    "dfs = [standardized_market_cap, standardized_book_to_market, standardized_momentum]\n",
    "\n",
    "# Count non-NaN values for each row in each DataFrame\n",
    "non_nan_counts = [df.notna().sum(axis=1) for df in dfs]\n",
    "\n",
    "# Compute minimum count across all DataFrames for each row\n",
    "Nt_tracker = pd.DataFrame({'Nt': pd.concat(non_nan_counts, axis=1).min(axis=1)})\n",
    "\n",
    "# Display result\n",
    "print(Nt_tracker.head())"
   ]
  },
  {
   "cell_type": "markdown",
   "id": "f6f28cd12ee7e09",
   "metadata": {},
   "source": [
    "### Find the market cap portfolio (monthly)"
   ]
  },
  {
   "cell_type": "code",
   "execution_count": 9,
   "id": "d34de651ee7c6c5",
   "metadata": {
    "ExecuteTime": {
     "end_time": "2025-03-27T16:24:45.806950Z",
     "start_time": "2025-03-27T16:24:45.790905Z"
    }
   },
   "outputs": [],
   "source": [
    "# 3-- MARKET CAP PF (w_i)\n",
    "df_market_cap_portfolio = df_market_cap.div(df_market_cap.sum(axis=1), axis=0) \n",
    "\n",
    "#Sum(.) function igores NaN values. Market cap weights are correctly normalized and calculated.\n"
   ]
  },
  {
   "cell_type": "markdown",
   "id": "9c879766f852ca3a",
   "metadata": {},
   "source": [
    "### In sample estimate of theta\n",
    "For the in-sample backtest, we use the entire dataset to find $\\theta^T$.\n"
   ]
  },
  {
   "cell_type": "code",
   "execution_count": 11,
   "id": "6135cd6086c3ad4a",
   "metadata": {
    "ExecuteTime": {
     "end_time": "2025-03-27T16:36:24.550087Z",
     "start_time": "2025-03-27T16:36:18.018216Z"
    }
   },
   "outputs": [
    {
     "name": "stdout",
     "output_type": "stream",
     "text": [
      "Optimization terminated successfully.\n",
      "         Current function value: 1330.196968\n",
      "         Iterations: 67\n",
      "         Function evaluations: 132\n",
      "[-1.21582151  3.47196596  2.10022942]\n"
     ]
    }
   ],
   "source": [
    "# 4-- IN-SAMPLE ESTIMATE OF THETA\n",
    "# region\n",
    "\n",
    "from scipy.optimize import minimize\n",
    "\n",
    "# Define CRRA utility with risk aversion 5\n",
    "def crra_utility(r, gamma=5):\n",
    "    if gamma == 1:\n",
    "        return np.log(1 + r)\n",
    "    else:\n",
    "        return ( (1 + r) ** (1 - gamma) ) / (1 - gamma)\n",
    "\n",
    "# Objective function (minimize negative average utility)\n",
    "def objective(theta, dates=None):\n",
    "    theta_size, theta_bm, theta_mom = theta\n",
    "\n",
    "    if dates is None:\n",
    "        dates = df_avg_ind_rets.index[:-1]\n",
    "\n",
    "    r_p_array = []\n",
    "\n",
    "    # Preload DataFrames as NumPy arrays for speed\n",
    "    market_cap_portfolio = df_market_cap_portfolio.loc[dates].values\n",
    "    size_factors = standardized_market_cap.loc[dates].values\n",
    "    bm_factors = standardized_book_to_market.loc[dates].values\n",
    "    mom_factors = standardized_momentum.loc[dates].values\n",
    "    avg_ind_rets = df_avg_ind_rets.loc[dates].values\n",
    "    nt_values = Nt_tracker.loc[dates, \"Nt\"].values  # Preload valid industry counts\n",
    "\n",
    "    for t in range(len(dates)):\n",
    "        w_hat = market_cap_portfolio[t].astype(float)\n",
    "        x_size = size_factors[t].astype(float)\n",
    "        x_bm = bm_factors[t].astype(float)\n",
    "        x_mom = mom_factors[t].astype(float)\n",
    "\n",
    "        num_valid = max(nt_values[t], 1)  # Avoid division by zero\n",
    "\n",
    "        tilt = (theta_size * x_size + theta_bm * x_bm + theta_mom * x_mom) / num_valid\n",
    "        weights = w_hat + tilt\n",
    "        weights = weights / np.nansum(weights)\n",
    "\n",
    "        r_next = avg_ind_rets[t + 1] if t + 1 < len(dates) else np.zeros_like(weights)\n",
    "        r_p = np.dot(np.nan_to_num(weights), np.nan_to_num(r_next))\n",
    "\n",
    "        r_p_array.append(r_p)\n",
    "\n",
    "    utilities = crra_utility(np.array(r_p_array), gamma=5)\n",
    "    return -np.mean(utilities)\n",
    "\n",
    "# Optimization with stricter stopping and lower tolerance for speed\n",
    "initial_guess = [-1.220 , 3.466 , 2.000]\n",
    "result = minimize(\n",
    "    objective,\n",
    "    initial_guess,\n",
    "    method='Nelder-Mead',\n",
    "    options={'maxiter': 300, 'fatol': 1e-4, 'disp': True}\n",
    ")\n",
    "\n",
    "theta_estimate = result.x\n",
    "print(theta_estimate)"
   ]
  },
  {
   "cell_type": "markdown",
   "id": "dcdf1890ea641efc",
   "metadata": {},
   "source": [
    "### In sample performance measures"
   ]
  },
  {
   "cell_type": "code",
   "execution_count": 13,
   "id": "9883715f750073c6",
   "metadata": {
    "ExecuteTime": {
     "end_time": "2025-03-27T16:58:33.420941Z",
     "start_time": "2025-03-27T16:58:33.373052Z"
    }
   },
   "outputs": [
    {
     "name": "stdout",
     "output_type": "stream",
     "text": [
      "annual return: 21.9819042914837\n",
      "annual volatility: 33.43643129590976\n",
      "sharpe ratio: 0.6574237572468662\n"
     ]
    }
   ],
   "source": [
    "import numpy as np\n",
    "import pandas as pd\n",
    "\n",
    "# Define CRRA utility (same as used for out-of-sample)\n",
    "def crra_utility(r, gamma=5):\n",
    "    if gamma == 1:\n",
    "        return np.log(1 + r)\n",
    "    else:\n",
    "        return ( (1 + r) ** (1 - gamma) ) / (1 - gamma)\n",
    "\n",
    "# In-sample estimate using the pre-defined theta values\n",
    "theta_in_sample = np.array([theta_estimate[0], theta_estimate[1], theta_estimate[2]])\n",
    "\n",
    "# Compute the portfolio returns for the entire dataset (in-sample)\n",
    "def compute_in_sample_performance(theta_in_sample):\n",
    "    r_p_array = []\n",
    "    dates = df_avg_ind_rets.index\n",
    "\n",
    "    # Preload data as NumPy arrays for speed\n",
    "    market_cap_portfolio = df_market_cap_portfolio.loc[dates].values\n",
    "    size_factors = standardized_market_cap.loc[dates].values\n",
    "    bm_factors = standardized_book_to_market.loc[dates].values\n",
    "    mom_factors = standardized_momentum.loc[dates].values\n",
    "    avg_ind_rets = df_avg_ind_rets.loc[dates].values\n",
    "    nt_values = Nt_tracker.loc[dates, \"Nt\"].values  # Preload valid industry counts\n",
    "\n",
    "    # Compute monthly portfolio returns for the in-sample period\n",
    "    for t in range(len(dates) - 1):  # Last date will have no next period return\n",
    "        w_hat = market_cap_portfolio[t].astype(float)\n",
    "        x_size = size_factors[t].astype(float)\n",
    "        x_bm = bm_factors[t].astype(float)\n",
    "        x_mom = mom_factors[t].astype(float)\n",
    "\n",
    "        num_valid = max(nt_values[t], 1)  # Avoid division by zero\n",
    "\n",
    "        # Calculate tilt and adjust portfolio weights\n",
    "        tilt = (theta_in_sample[0] * x_size + theta_in_sample[1] * x_bm + theta_in_sample[2] * x_mom) / num_valid\n",
    "        weights = w_hat + tilt\n",
    "\n",
    "        # Compute next period return (r_next)\n",
    "        r_next = avg_ind_rets[t + 1]  # Next period return\n",
    "        r_p = np.dot(np.nan_to_num(weights), np.nan_to_num(r_next))\n",
    "\n",
    "        r_p_array.append(r_p)\n",
    "\n",
    "    # Compute performance metrics\n",
    "    r_p_array = np.array(r_p_array)\n",
    "    mean_monthly = np.mean(r_p_array)\n",
    "    std_monthly = np.std(r_p_array)\n",
    "    annualized_return = mean_monthly * 12\n",
    "    annualized_volatility = std_monthly * np.sqrt(12)\n",
    "    sharpe_ratio = annualized_return / annualized_volatility\n",
    "\n",
    "    return annualized_return, annualized_volatility, sharpe_ratio\n",
    "\n",
    "# Run in-sample performance calculation\n",
    "annual_ret_in_sample, annual_vol_in_sample, sharpe_in_sample = compute_in_sample_performance(theta_in_sample)\n",
    "\n",
    "print('annual return:', annual_ret_in_sample)\n",
    "print('annual volatility:', annual_vol_in_sample)\n",
    "print('sharpe ratio:', sharpe_in_sample)\n"
   ]
  },
  {
   "cell_type": "markdown",
   "id": "667fb8c5ef9a8600",
   "metadata": {},
   "source": [
    "### Out of sample estimate of theta & performance measures\n",
    "For the out-of-sample backtest :\n",
    "* We initialize $\\theta^T$ with the in-sample results. \n",
    "* Then, we dynamically update $\\theta^T$ by re-estimating the parameter with an increasing sample of 1 year. \n",
    "* Nt is dynamically updated every year by using the variable **Nt_counter**. \n",
    "* The parametric portfolio weights are calculated using the updated $\\theta^T$ and Nt, every month for the next year.\n"
   ]
  },
  {
   "cell_type": "code",
   "execution_count": 15,
   "id": "cfcb6bc98b005ad",
   "metadata": {
    "ExecuteTime": {
     "end_time": "2025-03-27T16:49:57.829879Z",
     "start_time": "2025-03-27T16:48:41.761115Z"
    }
   },
   "outputs": [
    {
     "name": "stdout",
     "output_type": "stream",
     "text": [
      "historical theta     year  theta_size  theta_bm  theta_mom\n",
      "0   1974   -1.230592  3.554536   2.123922\n",
      "1   1975   -1.230566  3.554514   2.123917\n",
      "2   1976   -1.230574  3.554520   2.123920\n",
      "3   1977   -1.230574  3.554520   2.123920\n",
      "4   1978   -1.230574  3.554520   2.123920\n",
      "5   1979   -1.230574  3.554520   2.123920\n",
      "6   1980   -1.230263  3.554340   2.123893\n",
      "7   1981   -1.230263  3.554340   2.123893\n",
      "8   1982   -1.228095  3.479179   2.119525\n",
      "9   1983   -1.228095  3.479179   2.119525\n",
      "10  1984   -1.228095  3.479179   2.119525\n",
      "11  1985   -1.228093  3.479176   2.119525\n",
      "12  1986   -1.228093  3.479176   2.119525\n",
      "13  1987   -1.228093  3.479176   2.119525\n",
      "14  1988   -1.219958  3.472636   2.109856\n",
      "15  1989   -1.219958  3.472636   2.109856\n",
      "16  1990   -1.219958  3.472636   2.109856\n",
      "17  1991   -1.219958  3.472636   2.109856\n",
      "18  1992   -1.219958  3.472636   2.109856\n",
      "19  1993   -1.219958  3.472636   2.109856\n",
      "20  1994   -1.219958  3.472636   2.109856\n",
      "21  1995   -1.219953  3.472632   2.109851\n",
      "22  1996   -1.219950  3.472632   2.109856\n",
      "23  1997   -1.219950  3.472632   2.109856\n",
      "24  1998   -1.219950  3.472632   2.109856\n",
      "25  1999   -1.219516  3.472561   2.110784\n",
      "26  2000   -1.219522  3.472565   2.110789\n",
      "27  2001   -1.219522  3.472565   2.110789\n",
      "28  2002   -1.219522  3.472565   2.110789\n",
      "29  2003   -1.219522  3.472565   2.110789\n",
      "30  2004   -1.218228  3.471962   2.110401\n",
      "31  2005   -1.218228  3.471962   2.110401\n",
      "32  2006   -1.218228  3.471962   2.110401\n",
      "33  2007   -1.218224  3.471960   2.110396\n",
      "34  2008   -1.218180  3.471906   2.110460\n",
      "35  2009   -1.216728  3.472608   2.100386\n",
      "36  2010   -1.216728  3.472608   2.100386\n",
      "37  2011   -1.216728  3.472608   2.100386\n",
      "38  2012   -1.216728  3.472608   2.100386\n",
      "39  2013   -1.216728  3.472608   2.100386\n",
      "40  2014   -1.216728  3.472608   2.100386\n",
      "41  2015   -1.216732  3.472614   2.100387\n",
      "42  2016   -1.216732  3.472614   2.100387\n",
      "43  2017   -1.216732  3.472614   2.100387\n",
      "44  2018   -1.216732  3.472614   2.100387\n",
      "45  2019   -1.216732  3.472614   2.100387\n",
      "46  2020   -1.216732  3.472614   2.100387\n",
      "47  2021   -1.216732  3.472614   2.100387\n",
      "48  2022   -1.215912  3.472060   2.100251\n",
      "49  2023   -1.215912  3.472060   2.100251\n",
      "results          portfolio_return\n",
      "date                     \n",
      "1974-02          8.976862\n",
      "1974-03         -6.957971\n",
      "1974-04         -5.117207\n",
      "1974-05        -12.818674\n",
      "1974-06         -1.797499\n",
      "...                   ...\n",
      "2023-08         -2.519705\n",
      "2023-09         -1.078844\n",
      "2023-10         -6.426565\n",
      "2023-11         12.515989\n",
      "2023-12         10.968823\n",
      "\n",
      "[550 rows x 1 columns]\n",
      "annual rets 19.286508263842023\n",
      "annual std 22.45143643220729\n",
      "sharpe 0.8590322637964901\n"
     ]
    }
   ],
   "source": [
    "import numpy as np\n",
    "import pandas as pd\n",
    "from scipy.optimize import minimize\n",
    "\n",
    "def run_out_of_sample_backtest(start_year='1974-01'):\n",
    "    results = []\n",
    "    theta_history = []\n",
    "    dates = df_avg_ind_rets.index\n",
    "\n",
    "    for year in range(1974, int(dates[-1][:4])):  \n",
    "        #print(f\"Processing year: {year}\")  # Track progress\n",
    "\n",
    "        # Split in-sample (estimation) and out-of-sample (OOS) dates\n",
    "        estimation_dates = dates[dates < f\"{year}-01\"]\n",
    "        oos_dates = dates[(dates >= f\"{year}-01\") & (dates < f\"{year+1}-01\")]\n",
    "\n",
    "        # Optimize theta using estimation data\n",
    "        theta1,theta2,theta3 = theta_estimate[0], theta_estimate[1],theta_estimate[2]\n",
    "        res = minimize(objective, [theta1, theta2, theta3], args=(estimation_dates,), method='Nelder-Mead')\n",
    "        theta_size, theta_bm, theta_mom = res.x\n",
    "\n",
    "        theta_history.append({'year': year, 'theta_size': theta_size, 'theta_bm': theta_bm, 'theta_mom': theta_mom})\n",
    "        \n",
    "        # Preload out-of-sample data as NumPy arrays\n",
    "        market_cap_portfolio = df_market_cap_portfolio.loc[oos_dates].values\n",
    "        size_factors = standardized_market_cap.loc[oos_dates].values\n",
    "        bm_factors = standardized_book_to_market.loc[oos_dates].values\n",
    "        mom_factors = standardized_momentum.loc[oos_dates].values\n",
    "        avg_ind_rets = df_avg_ind_rets.loc[oos_dates].values\n",
    "        nt_values = Nt_tracker.loc[oos_dates, \"Nt\"].values  # Get valid asset counts\n",
    "\n",
    "        for t in range(len(oos_dates) - 1):\n",
    "            date_t = oos_dates[t]\n",
    "            date_t1 = oos_dates[t + 1]\n",
    "\n",
    "            w_hat = market_cap_portfolio[t].astype(float)\n",
    "            x_size = size_factors[t].astype(float)\n",
    "            x_bm = bm_factors[t].astype(float)\n",
    "            x_mom = mom_factors[t].astype(float)\n",
    "\n",
    "            num_valid = max(nt_values[t], 1)  # Avoid division by zero\n",
    "\n",
    "            # Compute tilt and adjust weights\n",
    "            tilt = (theta_size * x_size + theta_bm * x_bm + theta_mom * x_mom) / num_valid\n",
    "            weights = w_hat + tilt\n",
    "\n",
    "            # Renormalize weights (Equation 16)\n",
    "            weights = weights / np.nansum(weights)\n",
    "\n",
    "            # Compute portfolio return\n",
    "            r_next = avg_ind_rets[t + 1]  # Next period return\n",
    "            r_p = np.dot(np.nan_to_num(weights), np.nan_to_num(r_next))\n",
    "\n",
    "            results.append({'date': date_t1, 'portfolio_return': r_p})\n",
    "\n",
    "    # Convert results to DataFrame\n",
    "    result_df = pd.DataFrame(results).set_index('date')\n",
    "\n",
    "    # Compute performance metrics\n",
    "    mean_monthly = result_df['portfolio_return'].mean()\n",
    "    std_monthly = result_df['portfolio_return'].std()\n",
    "    annualized_return = mean_monthly * 12\n",
    "    annualized_std = std_monthly * np.sqrt(12)\n",
    "    sharpe_ratio = annualized_return / annualized_std\n",
    "\n",
    "    return result_df, annualized_return, annualized_std, sharpe_ratio, pd.DataFrame(theta_history)\n",
    "\n",
    "# Run out-of-sample backtest\n",
    "out_sample_results, annual_ret, annual_std, sharpe, theta = run_out_of_sample_backtest()\n",
    "print('historical theta', theta)\n",
    "print('results', out_sample_results)\n",
    "print('annual rets', annual_ret)\n",
    "print('annual std', annual_std)\n",
    "print('sharpe', sharpe)"
   ]
  },
  {
   "cell_type": "markdown",
   "id": "bbece739afeb9be4",
   "metadata": {},
   "source": [
    "### Comparison between in-sample and out-of-sample performance\n",
    "\n",
    "* Annualized Return: The out-of-sample portfolio performs slightly better (11.65% vs. 12.50%) despite its lower volatility, indicating better risk-adjusted returns.\n",
    "\n",
    "* Volatility: Out-of-sample volatility is lower, meaning the model's predictions tend to be less volatile in the out-of-sample period.\n",
    "\n",
    "* Sharpe Ratio: The higher Sharpe ratio for the out-of-sample period (0.74 vs. 0.69) suggests that the out-of-sample portfolio is better at delivering return for the amount of risk taken."
   ]
  },
  {
   "cell_type": "code",
   "execution_count": 17,
   "id": "cf9e3987164e3dbe",
   "metadata": {
    "ExecuteTime": {
     "end_time": "2025-03-27T17:20:33.067443Z",
     "start_time": "2025-03-27T17:20:33.060510Z"
    }
   },
   "outputs": [
    {
     "name": "stdout",
     "output_type": "stream",
     "text": [
      "Annual Return Improvement: -12.26%\n",
      "Volatility Improvement: 32.85%\n",
      "Sharpe Ratio Improvement: 30.67%\n"
     ]
    }
   ],
   "source": [
    "# Percentage improvement for all performance metrics\n",
    "annual_ret_improvement = ((annual_ret - annual_ret_in_sample) / annual_ret_in_sample) * 100\n",
    "vol_improvement = ((annual_vol_in_sample- annual_std) / annual_vol_in_sample) * 100\n",
    "sharpe_improvement = ((sharpe - sharpe_in_sample) / sharpe_in_sample) * 100\n",
    "\n",
    "# Display results\n",
    "print(f\"Annual Return Improvement: {annual_ret_improvement:.2f}%\")\n",
    "print(f\"Volatility Improvement: {vol_improvement:.2f}%\")\n",
    "print(f\"Sharpe Ratio Improvement: {sharpe_improvement:.2f}%\")"
   ]
  },
  {
   "cell_type": "markdown",
   "id": "2e0cd0b5b057eda1",
   "metadata": {},
   "source": [
    "### Wealth evolution"
   ]
  },
  {
   "cell_type": "code",
   "execution_count": 19,
   "id": "5da58290caad9ad5",
   "metadata": {
    "ExecuteTime": {
     "end_time": "2025-03-27T17:36:54.138416Z",
     "start_time": "2025-03-27T17:36:54.012096Z"
    }
   },
   "outputs": [
    {
     "data": {
      "image/png": "[encoded data removed]",
      "text/plain": [
       "<Figure size 1000x600 with 1 Axes>"
      ]
     },
     "metadata": {},
     "output_type": "display_data"
    }
   ],
   "source": [
    "import matplotlib.pyplot as plt\n",
    "import pandas as pd\n",
    "import numpy as np\n",
    "\n",
    "# Initial portfolio value\n",
    "initial_portfolio_value = 10000\n",
    "\n",
    "# Calculate portfolio returns based on df_market_cap_portfolio and df_avg_ind_rets\n",
    "portfolio_value = [initial_portfolio_value]\n",
    "\n",
    "for i in range(1, len(df_market_cap_portfolio)):\n",
    "    # Portfolio weights for the current time step (date)\n",
    "    weights = df_market_cap_portfolio.iloc[i].values\n",
    "    \n",
    "    # Corresponding average returns for the current time step (date)\n",
    "    returns = df_avg_ind_rets.iloc[i].values / 100  # Convert percentage returns to decimals\n",
    "    \n",
    "    # Calculate the portfolio return for the current month\n",
    "    portfolio_return = np.dot(weights, returns)\n",
    "    \n",
    "    # Update the portfolio value\n",
    "    new_portfolio_value = portfolio_value[-1] * (1 + portfolio_return)\n",
    "    portfolio_value.append(new_portfolio_value)\n",
    "\n",
    "# Convert portfolio value list into a pandas series\n",
    "portfolio_value_series = pd.Series(portfolio_value, index=df_market_cap_portfolio.index)\n",
    "\n",
    "# Plot wealth over time\n",
    "plt.figure(figsize=(10, 6))\n",
    "plt.plot(portfolio_value_series.index, portfolio_value_series, label='Market Cap Portfolio', color='grey')\n",
    "plt.title('Cumulative Portfolio Value for Market Cap Portfolio', fontsize=14)\n",
    "plt.xlabel('Date', fontsize=12)\n",
    "plt.ylabel('Portfolio Value ($)', fontsize=12)\n",
    "plt.legend()\n",
    "\n",
    "# tick interval setting\n",
    "tick_positions = range(0, len(portfolio_value_series), int(len(portfolio_value_series) / 5)) \n",
    "#select range\n",
    "tick_labels = [str(year) for year in range(1970, 2024, 10)]  \n",
    "plt.xticks(ticks=tick_positions, labels=tick_labels, rotation=45)\n",
    "plt.tight_layout()\n",
    "plt.show()\n"
   ]
  },
  {
   "cell_type": "code",
   "execution_count": 20,
   "id": "f379a902ef779122",
   "metadata": {
    "ExecuteTime": {
     "end_time": "2025-03-27T17:42:02.819834Z",
     "start_time": "2025-03-27T17:42:02.712961Z"
    }
   },
   "outputs": [
    {
     "data": {
      "image/png": "[encoded data removed]",
      "text/plain": [
       "<Figure size 1000x600 with 1 Axes>"
      ]
     },
     "metadata": {},
     "output_type": "display_data"
    }
   ],
   "source": [
    "import matplotlib.pyplot as plt\n",
    "import pandas as pd\n",
    "import numpy as np\n",
    "import matplotlib.ticker as ticker\n",
    "\n",
    "# Initial portfolio value\n",
    "initial_portfolio_value = 10000\n",
    "\n",
    "# Calculate cumulative return for the Parametric Portfolio (out_sample_results)\n",
    "parametric_portfolio_value = [initial_portfolio_value]\n",
    "for i in range(1, len(out_sample_results)):\n",
    "    portfolio_return = out_sample_results['portfolio_return'].iloc[i] / 100  # Convert percentage returns to decimals\n",
    "    new_portfolio_value = parametric_portfolio_value[-1] * (1 + portfolio_return)\n",
    "    parametric_portfolio_value.append(new_portfolio_value)\n",
    "\n",
    "# Convert parametric portfolio value list into a pandas series\n",
    "parametric_portfolio_value_series = pd.Series(parametric_portfolio_value, index=out_sample_results.index)\n",
    "\n",
    "# Plot the Parametric Portfolio cumulative returns\n",
    "plt.figure(figsize=(10, 6))\n",
    "plt.plot(parametric_portfolio_value_series.index, parametric_portfolio_value_series, label='Parametric Portfolio', color='green', linewidth=2)\n",
    "plt.title('Cumulative Portfolio Value for Parametric Portfolio', fontsize=14)\n",
    "plt.xlabel('Date', fontsize=12)\n",
    "plt.ylabel('Portfolio Value ($)', fontsize=12)\n",
    "plt.legend()\n",
    "\n",
    "# Manually set x-ticks for every decade\n",
    "tick_positions = np.linspace(0, len(parametric_portfolio_value_series) - 1, num=6, dtype=int)  # Calculate positions dynamically for 6 labels\n",
    "tick_labels = [str(year) for year in range(1970, 2024, 10)]  # Adjust required range\n",
    "\n",
    "#set x y labels and ticks\n",
    "plt.xticks(ticks=tick_positions, labels=tick_labels, rotation=45)\n",
    "plt.gca().yaxis.set_major_formatter(ticker.FuncFormatter(lambda x, pos: f'${x:,.0f}'))\n",
    "\n",
    "plt.tight_layout()\n",
    "plt.show()\n"
   ]
  },
  {
   "cell_type": "code",
   "execution_count": null,
   "id": "295d3e7d-c5f2-4303-b0fa-1eb8abdede0b",
   "metadata": {},
   "outputs": [],
   "source": []
  }
 ],
 "metadata": {
  "kernelspec": {
   "display_name": "Python 3 (ipykernel)",
   "language": "python",
   "name": "python3"
  },
  "language_info": {
   "codemirror_mode": {
    "name": "ipython",
    "version": 3
   },
   "file_extension": ".py",
   "mimetype": "text/x-python",
   "name": "python",
   "nbconvert_exporter": "python",
   "pygments_lexer": "ipython3",
   "version": "3.12.4"
  }
 },
 "nbformat": 4,
 "nbformat_minor": 5
}
