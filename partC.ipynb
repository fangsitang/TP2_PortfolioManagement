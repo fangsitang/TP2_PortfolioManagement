{
 "cells": [
  {
   "metadata": {},
   "cell_type": "markdown",
   "source": "### Clean preliminary data",
   "id": "33b0d0ed5c04764d"
  },
  {
   "cell_type": "code",
   "id": "initial_id",
   "metadata": {
    "collapsed": true,
    "ExecuteTime": {
     "end_time": "2025-03-27T16:20:11.288608Z",
     "start_time": "2025-03-27T16:20:07.942436Z"
    }
   },
   "source": [
    "import pandas as pd\n",
    "import numpy as np\n",
    "from ccxt.static_dependencies.lark.parsers.cyk import print_parse\n",
    "\n",
    "# 1--DATA CLEANING\n",
    "# region\n",
    "\n",
    "# read file\n",
    "file_path = '48_industry_portfolios.xlsx'\n",
    "\n",
    "# create dataframes to work with\n",
    "df_number_firms = pd.read_excel(file_path, sheet_name='number_firms', index_col=0) #market cap\n",
    "df_firm_size = pd.read_excel(file_path, sheet_name='firm_size', index_col=0) #firm size\n",
    "df_sum_BE = pd.read_excel(file_path, sheet_name='sum_BE', index_col=0) #sum of book equity\n",
    "df_avg_ind_rets = pd.read_excel(file_path, sheet_name='avg_ind_rets', index_col=0) #average returns\n",
    "\n",
    "# Convert index to string format YYYY-MM\n",
    "for df in [df_number_firms, df_firm_size,df_sum_BE, df_avg_ind_rets]:\n",
    "    df.index = df.index.astype(str)\n",
    "    df.index = df.index.str[:4] + '-' + df.index.str[4:]\n",
    "\n",
    "# Convert index to string format YYYY\n",
    "df_sum_BE\n",
    "df_sum_BE.index = df_sum_BE.index.astype(str)\n",
    "df_sum_BE.index = df_sum_BE.index.str[:4]\n",
    "\n",
    "# endregion\n"
   ],
   "outputs": [],
   "execution_count": 1
  },
  {
   "metadata": {},
   "cell_type": "markdown",
   "source": "### Standardize factor data ",
   "id": "fb63676d8546ff24"
  },
  {
   "metadata": {
    "ExecuteTime": {
     "end_time": "2025-03-27T16:20:14.451393Z",
     "start_time": "2025-03-27T16:20:14.228926Z"
    }
   },
   "cell_type": "code",
   "source": [
    "# 1.1--MARKET CAP\n",
    "# region\n",
    "df_market_cap = df_firm_size * df_number_firms\n",
    "# endregion\n",
    "\n",
    "# 1.2--BOOK TO MARKET RATIO\n",
    "# region\n",
    "\n",
    "# Expand annual Book-to-Market ratio (Sum BE / Sum ME) to monthly values\n",
    "bm_monthly = []\n",
    "for year in df_sum_BE.index.astype(int):\n",
    "    for month in range(7, 13):  # July to December of year s\n",
    "        bm_monthly.append([f\"{year}-{month:02d}\"] + list(df_sum_BE.loc[str(year)]))\n",
    "    for month in range(1, 7):  # January to June of year s+1\n",
    "        bm_monthly.append([f\"{year+1}-{month:02d}\"] + list(df_sum_BE.loc[str(year)]))\n",
    "\n",
    "# Convert to DataFrame with YYYY-MM index\n",
    "df_BM_monthly = pd.DataFrame(bm_monthly, columns=[\"Date\"] + list(df_sum_BE.columns))\n",
    "df_BM_monthly.set_index(\"Date\", inplace=True)\n",
    "\n",
    "# Ensure df_BM_monthly index matches df_market_cap index\n",
    "df_BM_monthly = df_BM_monthly.loc[df_market_cap.index]\n",
    "\n",
    "# Compute monthly Book-to-Market ratio for each industry\n",
    "df_book_to_market = df_BM_monthly * df_market_cap  # Element-wise multiplication\n",
    "\n",
    "# endregion\n",
    "\n",
    "# 1.3--MOMENTUM\n",
    "# region\n",
    "# Compute momentum for each industry\n",
    "df_momentum = pd.DataFrame(index=df_avg_ind_rets.index, columns=df_avg_ind_rets.columns)\n",
    "\n",
    "# Iterate over each month and industry to compute momentum\n",
    "for date in df_avg_ind_rets.index:\n",
    "    # Get the last 12 months' data up to the current month\n",
    "    momentum_data = df_avg_ind_rets.loc[df_avg_ind_rets.index <= date].tail(12)\n",
    "\n",
    "    # Calculate the average of the last 12 months for each industry\n",
    "    df_momentum.loc[date] = momentum_data.mean(axis=0)\n",
    "\n",
    "# endregion\n"
   ],
   "id": "72a753734d6e1b30",
   "outputs": [],
   "execution_count": 2
  },
  {
   "metadata": {
    "ExecuteTime": {
     "end_time": "2025-03-27T16:20:18.366778Z",
     "start_time": "2025-03-27T16:20:17.178401Z"
    }
   },
   "cell_type": "code",
   "source": [
    "# 2--STANDARDIZE DATA\n",
    "\n",
    "def standardize_monthly(df):\n",
    "    df_standardized = pd.DataFrame(index=df.index, columns=df.columns)\n",
    "\n",
    "    for date in df.index:\n",
    "        values = df.loc[date]\n",
    "        # Exclude invalid values\n",
    "        valid_values = values[(values != -99.99) & (values != -0.0)]\n",
    "\n",
    "        mean_val = valid_values.mean()\n",
    "        std_val = valid_values.std()\n",
    "\n",
    "        # Standardize only valid values\n",
    "        standardized_values = (valid_values - mean_val) / std_val\n",
    "\n",
    "        # Store back\n",
    "        df_standardized.loc[date, standardized_values.index] = standardized_values\n",
    "\n",
    "    return df_standardized\n",
    "\n",
    "# Apply standardization\n",
    "standardized_market_cap = standardize_monthly(df_market_cap)\n",
    "standardized_book_to_market = standardize_monthly(df_book_to_market)\n",
    "standardized_momentum = standardize_monthly(df_momentum)\n",
    "\n",
    "pd.set_option('display.max_columns', None)\n",
    "print(standardized_market_cap)\n"
   ],
   "id": "79a84dcce4584a49",
   "outputs": [
    {
     "name": "stdout",
     "output_type": "stream",
     "text": [
      "            Agric     Food      Soda      Beer      Smoke     Toys      Fun    \\\n",
      "1926-07 -0.340402  0.536441       NaN -0.597518  0.266341 -0.605249 -0.458363   \n",
      "1926-08 -0.345924  0.507911       NaN -0.605694  0.254909 -0.611264 -0.464158   \n",
      "1926-09 -0.344016  0.508245       NaN -0.597739  0.284339   -0.6059 -0.466267   \n",
      "1926-10 -0.350338  0.521362       NaN -0.601232  0.292081 -0.609133 -0.461784   \n",
      "1926-11 -0.342589  0.508503       NaN -0.600176  0.330109 -0.607725 -0.464402   \n",
      "...           ...       ...       ...       ...       ...       ...       ...   \n",
      "2024-08   -0.5122 -0.327631 -0.359244 -0.357932 -0.406067 -0.515784 -0.308447   \n",
      "2024-09 -0.513145 -0.322565 -0.354046 -0.360595 -0.399325 -0.517539 -0.300188   \n",
      "2024-10 -0.510291 -0.323462  -0.35529 -0.360884 -0.404423 -0.514543 -0.293384   \n",
      "2024-11 -0.505333 -0.328809 -0.364867 -0.365679 -0.389621 -0.510462 -0.279833   \n",
      "2024-12 -0.510628 -0.343708 -0.378899 -0.380593  -0.39902 -0.516123 -0.264912   \n",
      "\n",
      "            Books     Hshld     Clths     Hlth      MedEq     Drugs     Chems  \\\n",
      "1926-07 -0.613267 -0.452518 -0.413531       NaN -0.581872 -0.487483  0.288082   \n",
      "1926-08 -0.618186 -0.463249 -0.407903       NaN -0.587588 -0.496537  0.335485   \n",
      "1926-09 -0.612268 -0.470825 -0.416032       NaN -0.583873 -0.491836  0.363411   \n",
      "1926-10 -0.617186 -0.473921 -0.421851       NaN -0.586907 -0.495845  0.410663   \n",
      "1926-11 -0.615339 -0.476257 -0.414654       NaN -0.583246 -0.494278  0.389421   \n",
      "...           ...       ...       ...       ...       ...       ...       ...   \n",
      "2024-08 -0.518793 -0.198169 -0.427391 -0.368582  -0.03877   1.05496 -0.307183   \n",
      "2024-09  -0.51986 -0.184627 -0.424247 -0.365098 -0.012163  1.121874 -0.309516   \n",
      "2024-10 -0.517731 -0.187001 -0.418239  -0.36223 -0.018386  1.031524 -0.304171   \n",
      "2024-11 -0.513636  -0.20442 -0.421192 -0.371829 -0.022233  0.982414 -0.308945   \n",
      "2024-12 -0.518405 -0.205549   -0.4238 -0.383005 -0.026731  0.844672 -0.321174   \n",
      "\n",
      "            Rubbr     Txtls     BldMt     Cnstr     Steel     FabPr     Mach   \\\n",
      "1926-07       NaN  -0.54244  -0.36722   -0.6077  1.403481       NaN -0.134619   \n",
      "1926-08       NaN -0.550448 -0.372526 -0.615461  1.435998       NaN -0.125057   \n",
      "1926-09       NaN -0.543193  -0.36478 -0.611464  1.414796       NaN -0.128129   \n",
      "1926-10       NaN -0.545816   -0.3701 -0.617213  1.417825       NaN -0.129697   \n",
      "1926-11       NaN -0.542037 -0.373161 -0.616502  1.392138       NaN -0.108621   \n",
      "...           ...       ...       ...       ...       ...       ...       ...   \n",
      "2024-08 -0.502474  -0.52679 -0.395228 -0.352621 -0.471298 -0.528264  0.046645   \n",
      "2024-09  -0.50422 -0.528076 -0.399092 -0.354401 -0.477644 -0.530152    0.0307   \n",
      "2024-10 -0.502334  -0.52528 -0.391803    -0.347 -0.475287 -0.527311  0.050128   \n",
      "2024-11  -0.49849 -0.522381 -0.390336 -0.352553 -0.472506 -0.523354  0.033021   \n",
      "2024-12 -0.503852 -0.526842  -0.38928 -0.351793 -0.474757 -0.526608  0.033172   \n",
      "\n",
      "            ElcEq     Autos     Aero      Ships     Guns      Gold      Mines  \\\n",
      "1926-07  0.509605  1.097622 -0.608467  -0.12956       NaN       NaN -0.258137   \n",
      "1926-08  0.518077  1.328558 -0.615497 -0.142546       NaN       NaN -0.251421   \n",
      "1926-09  0.513182  1.346649 -0.612718  -0.14408       NaN       NaN -0.256333   \n",
      "1926-10  0.499856  1.446307 -0.617791 -0.134306       NaN       NaN -0.258058   \n",
      "1926-11  0.467853  1.334502 -0.617391 -0.148712       NaN       NaN -0.258193   \n",
      "...           ...       ...       ...       ...       ...       ...       ...   \n",
      "2024-08 -0.468157 -0.048687 -0.266386 -0.511933 -0.455878 -0.502613 -0.417157   \n",
      "2024-09 -0.472586 -0.084108 -0.268798 -0.512678 -0.452797 -0.501892  -0.42674   \n",
      "2024-10 -0.470525 -0.027567 -0.277362  -0.50955 -0.448075 -0.499367 -0.416353   \n",
      "2024-11 -0.466657 -0.039402 -0.279913 -0.506281 -0.448413 -0.499604 -0.413313   \n",
      "2024-12 -0.468556  0.073311 -0.291029 -0.510745 -0.447798  -0.50804 -0.425327   \n",
      "\n",
      "            Coal      Oil       Util      Telcm     PerSv     BusSv     Comps  \\\n",
      "1926-07 -0.317506  3.072433  0.959992  1.002697       NaN -0.555072 -0.508632   \n",
      "1926-08 -0.327336  2.947703   1.03213  0.980653       NaN -0.559715 -0.513363   \n",
      "1926-09 -0.329514  2.898265  0.956208   0.97351       NaN -0.556936 -0.509508   \n",
      "1926-10 -0.331056  2.770875  0.989578  0.995086       NaN -0.560925 -0.509655   \n",
      "1926-11 -0.316772  2.834207  0.990695  1.042348       NaN  -0.55697 -0.508029   \n",
      "...           ...       ...       ...       ...       ...       ...       ...   \n",
      "2024-08 -0.525515  0.288727  0.153579 -0.034125 -0.452582  4.802827 -0.181427   \n",
      "2024-09 -0.527291  0.243994  0.168108 -0.041743 -0.452147  4.791269 -0.188981   \n",
      "2024-10 -0.524283  0.201004  0.185183 -0.024227  -0.44868  4.836615 -0.180616   \n",
      "2024-11 -0.520306  0.193877   0.19347 -0.011065 -0.444828  4.812025    -0.175   \n",
      "2024-12 -0.524643  0.189677  0.182587  0.000287 -0.446883  4.850482 -0.177791   \n",
      "\n",
      "            Chips     LabEq     Paper     Boxes     Trans     Whlsl     Rtail  \\\n",
      "1926-07  -0.56887 -0.407252       NaN -0.421132  3.985988  -0.61507  0.806327   \n",
      "1926-08  -0.57674 -0.414971       NaN -0.417715  3.971302 -0.622456  0.772114   \n",
      "1926-09 -0.576596 -0.406793       NaN -0.425358  4.044143 -0.618794  0.723417   \n",
      "1926-10 -0.583632 -0.411129       NaN -0.439415  4.063383 -0.623477  0.730062   \n",
      "1926-11 -0.583722 -0.403147       NaN -0.443568  4.062381 -0.622512  0.737534   \n",
      "...           ...       ...       ...       ...       ...       ...       ...   \n",
      "2024-08  3.672398 -0.051246 -0.483852 -0.497202 -0.053589 -0.240298  1.576993   \n",
      "2024-09  3.673916 -0.064928 -0.483735 -0.498479 -0.052964 -0.250158   1.55281   \n",
      "2024-10  3.658258 -0.067963 -0.482804  -0.49548 -0.050802  -0.25659  1.586525   \n",
      "2024-11  3.700059 -0.105501 -0.480571 -0.492765 -0.040307 -0.257319  1.569593   \n",
      "2024-12  3.598803 -0.123772 -0.486009 -0.497357 -0.033422 -0.246699  1.652374   \n",
      "\n",
      "            Meals     Banks     Insur     RlEst     Fin       Other  \n",
      "1926-07 -0.557236 -0.577044 -0.528995  -0.57488 -0.571403 -0.527571  \n",
      "1926-08  -0.56413 -0.582745 -0.537829 -0.581283  -0.58171 -0.531387  \n",
      "1926-09   -0.5625 -0.575509 -0.534467 -0.577249 -0.579139 -0.524346  \n",
      "1926-10 -0.567385 -0.581105 -0.537861 -0.582831 -0.585492 -0.531935  \n",
      "1926-11 -0.567085  -0.58396 -0.537951 -0.582952 -0.583603 -0.536137  \n",
      "...           ...       ...       ...       ...       ...       ...  \n",
      "2024-08 -0.190901  0.883063  0.375694  -0.49492  0.230694  0.213757  \n",
      "2024-09 -0.179941  0.885457  0.396884 -0.496425  0.222606  0.245268  \n",
      "2024-10 -0.168089  0.822675  0.365165 -0.492306  0.224597  0.218014  \n",
      "2024-11 -0.166511  0.893231  0.330054 -0.488006  0.275291  0.199202  \n",
      "2024-12 -0.169925  0.986242  0.345304 -0.491941  0.333444   0.20526  \n",
      "\n",
      "[1182 rows x 48 columns]\n"
     ]
    }
   ],
   "execution_count": 3
  },
  {
   "metadata": {},
   "cell_type": "markdown",
   "source": [
    "### Create tracker for Nt\n",
    "This will be used to dynamically update Nt when we construct the parametric portfolio weights."
   ],
   "id": "d417265213514fed"
  },
  {
   "metadata": {
    "ExecuteTime": {
     "end_time": "2025-03-27T16:20:36.609818Z",
     "start_time": "2025-03-27T16:20:36.577435Z"
    }
   },
   "cell_type": "code",
   "source": [
    "# Ensure same size\n",
    "dfs = [standardized_market_cap, standardized_book_to_market, standardized_momentum]\n",
    "\n",
    "# Count non-NaN values for each row in each DataFrame\n",
    "non_nan_counts = [df.notna().sum(axis=1) for df in dfs]\n",
    "\n",
    "# Compute minimum count across all DataFrames for each row\n",
    "Nt_tracker = pd.DataFrame({'Nt': pd.concat(non_nan_counts, axis=1).min(axis=1)})\n",
    "\n",
    "# Display result\n",
    "print(Nt_tracker.head())"
   ],
   "id": "4ec7c632861d1200",
   "outputs": [
    {
     "name": "stdout",
     "output_type": "stream",
     "text": [
      "         Nt\n",
      "1926-07  40\n",
      "1926-08  40\n",
      "1926-09  40\n",
      "1926-10  40\n",
      "1926-11  40\n"
     ]
    }
   ],
   "execution_count": 6
  },
  {
   "metadata": {},
   "cell_type": "markdown",
   "source": "### Find the market cap portfolio (monthly)",
   "id": "f6f28cd12ee7e09"
  },
  {
   "metadata": {
    "ExecuteTime": {
     "end_time": "2025-03-27T16:24:45.806950Z",
     "start_time": "2025-03-27T16:24:45.790905Z"
    }
   },
   "cell_type": "code",
   "source": [
    "# 3-- MARKET CAP PF (w_i)\n",
    "df_market_cap_portfolio = df_market_cap.div(df_market_cap.sum(axis=1), axis=0) \n",
    "\n",
    "#Sum(.) function igores NaN values. Market cap weights are correctly normalized and calculated.\n"
   ],
   "id": "d34de651ee7c6c5",
   "outputs": [],
   "execution_count": 10
  },
  {
   "metadata": {},
   "cell_type": "markdown",
   "source": [
    "### In sample estimate of theta\n",
    "For the in-sample backtest, we use the entire dataset to find $\\theta^T$.\n"
   ],
   "id": "9c879766f852ca3a"
  },
  {
   "metadata": {
    "ExecuteTime": {
     "end_time": "2025-03-27T16:36:24.550087Z",
     "start_time": "2025-03-27T16:36:18.018216Z"
    }
   },
   "cell_type": "code",
   "source": [
    "# 4-- IN-SAMPLE ESTIMATE OF THETA\n",
    "# region\n",
    "\n",
    "from scipy.optimize import minimize\n",
    "\n",
    "# Define CRRA utility with risk aversion 5\n",
    "def crra_utility(r, gamma=5):\n",
    "    if gamma == 1:\n",
    "        return np.log(1 + r)\n",
    "    else:\n",
    "        return ( (1 + r) ** (1 - gamma) ) / (1 - gamma)\n",
    "\n",
    "# Objective function (minimize negative average utility)\n",
    "def objective(theta, dates=None):\n",
    "    theta_size, theta_bm, theta_mom = theta\n",
    "\n",
    "    if dates is None:\n",
    "        dates = df_avg_ind_rets.index[:-1]\n",
    "\n",
    "    r_p_array = []\n",
    "\n",
    "    # Preload DataFrames as NumPy arrays for speed\n",
    "    market_cap_portfolio = df_market_cap_portfolio.loc[dates].values\n",
    "    size_factors = standardized_market_cap.loc[dates].values\n",
    "    bm_factors = standardized_book_to_market.loc[dates].values\n",
    "    mom_factors = standardized_momentum.loc[dates].values\n",
    "    avg_ind_rets = df_avg_ind_rets.loc[dates].values\n",
    "    nt_values = Nt_tracker.loc[dates, \"Nt\"].values  # Preload valid industry counts\n",
    "\n",
    "    for t in range(len(dates)):\n",
    "        w_hat = market_cap_portfolio[t].astype(float)\n",
    "        x_size = size_factors[t].astype(float)\n",
    "        x_bm = bm_factors[t].astype(float)\n",
    "        x_mom = mom_factors[t].astype(float)\n",
    "\n",
    "        num_valid = max(nt_values[t], 1)  # Avoid division by zero\n",
    "\n",
    "        tilt = (theta_size * x_size + theta_bm * x_bm + theta_mom * x_mom) / num_valid\n",
    "        weights = w_hat + tilt\n",
    "\n",
    "        r_next = avg_ind_rets[t + 1] if t + 1 < len(dates) else np.zeros_like(weights)\n",
    "        r_p = np.dot(np.nan_to_num(weights), np.nan_to_num(r_next))\n",
    "\n",
    "        r_p_array.append(r_p)\n",
    "\n",
    "    utilities = crra_utility(np.array(r_p_array), gamma=5)\n",
    "    return -np.mean(utilities)\n",
    "\n",
    "# Optimization with stricter stopping and lower tolerance for speed\n",
    "initial_guess = [0.0, 0.0, 0.0]\n",
    "result = minimize(\n",
    "    objective,\n",
    "    initial_guess,\n",
    "    method='Nelder-Mead',\n",
    "    options={'maxiter': 300, 'fatol': 1e-4, 'disp': True}\n",
    ")\n",
    "\n",
    "theta_estimate = result.x\n",
    "print(theta_estimate)"
   ],
   "id": "6135cd6086c3ad4a",
   "outputs": [
    {
     "name": "stdout",
     "output_type": "stream",
     "text": [
      "Optimization terminated successfully.\n",
      "         Current function value: 18035.183502\n",
      "         Iterations: 77\n",
      "         Function evaluations: 145\n",
      "[-0.03331369  0.01435005  0.01272402]\n"
     ]
    }
   ],
   "execution_count": 15
  },
  {
   "metadata": {},
   "cell_type": "markdown",
   "source": "### In sample performance measures",
   "id": "dcdf1890ea641efc"
  },
  {
   "metadata": {
    "ExecuteTime": {
     "end_time": "2025-03-27T16:58:33.420941Z",
     "start_time": "2025-03-27T16:58:33.373052Z"
    }
   },
   "cell_type": "code",
   "source": [
    "import numpy as np\n",
    "import pandas as pd\n",
    "\n",
    "# Define CRRA utility (same as used for out-of-sample)\n",
    "def crra_utility(r, gamma=5):\n",
    "    if gamma == 1:\n",
    "        return np.log(1 + r)\n",
    "    else:\n",
    "        return ( (1 + r) ** (1 - gamma) ) / (1 - gamma)\n",
    "\n",
    "# In-sample estimate using the pre-defined theta values\n",
    "theta_in_sample = np.array([-0.03331369, 0.01435005, 0.01272402])\n",
    "\n",
    "# Compute the portfolio returns for the entire dataset (in-sample)\n",
    "def compute_in_sample_performance(theta_in_sample):\n",
    "    r_p_array = []\n",
    "    dates = df_avg_ind_rets.index\n",
    "\n",
    "    # Preload data as NumPy arrays for speed\n",
    "    market_cap_portfolio = df_market_cap_portfolio.loc[dates].values\n",
    "    size_factors = standardized_market_cap.loc[dates].values\n",
    "    bm_factors = standardized_book_to_market.loc[dates].values\n",
    "    mom_factors = standardized_momentum.loc[dates].values\n",
    "    avg_ind_rets = df_avg_ind_rets.loc[dates].values\n",
    "    nt_values = Nt_tracker.loc[dates, \"Nt\"].values  # Preload valid industry counts\n",
    "\n",
    "    # Compute monthly portfolio returns for the in-sample period\n",
    "    for t in range(len(dates) - 1):  # Last date will have no next period return\n",
    "        w_hat = market_cap_portfolio[t].astype(float)\n",
    "        x_size = size_factors[t].astype(float)\n",
    "        x_bm = bm_factors[t].astype(float)\n",
    "        x_mom = mom_factors[t].astype(float)\n",
    "\n",
    "        num_valid = max(nt_values[t], 1)  # Avoid division by zero\n",
    "\n",
    "        # Calculate tilt and adjust portfolio weights\n",
    "        tilt = (theta_in_sample[0] * x_size + theta_in_sample[1] * x_bm + theta_in_sample[2] * x_mom) / num_valid\n",
    "        weights = w_hat + tilt\n",
    "\n",
    "        # Compute next period return (r_next)\n",
    "        r_next = avg_ind_rets[t + 1]  # Next period return\n",
    "        r_p = np.dot(np.nan_to_num(weights), np.nan_to_num(r_next))\n",
    "\n",
    "        r_p_array.append(r_p)\n",
    "\n",
    "    # Compute performance metrics\n",
    "    r_p_array = np.array(r_p_array)\n",
    "    mean_monthly = np.mean(r_p_array)\n",
    "    std_monthly = np.std(r_p_array)\n",
    "    annualized_return = mean_monthly * 12\n",
    "    annualized_volatility = std_monthly * np.sqrt(12)\n",
    "    sharpe_ratio = annualized_return / annualized_volatility\n",
    "\n",
    "    return annualized_return, annualized_volatility, sharpe_ratio\n",
    "\n",
    "# Run in-sample performance calculation\n",
    "annual_ret_in_sample, annual_vol_in_sample, sharpe_in_sample = compute_in_sample_performance(theta_in_sample)\n",
    "\n",
    "print('annual return:', annual_ret_in_sample)\n",
    "print('annual volatility:', annual_vol_in_sample)\n",
    "print('sharpe ratio:', sharpe_in_sample)\n"
   ],
   "id": "9883715f750073c6",
   "outputs": [
    {
     "name": "stdout",
     "output_type": "stream",
     "text": [
      "annual return: 11.55676590027424\n",
      "annual volatility: 18.32508397849895\n",
      "sharpe ratio: 0.6306528206819646\n"
     ]
    }
   ],
   "execution_count": 23
  },
  {
   "metadata": {},
   "cell_type": "markdown",
   "source": [
    "### Out of sample estimate of theta & performance measures\n",
    "For the out-of-sample backtest :\n",
    "* We initialize $\\theta^T$ with the in-sample results. \n",
    "* Then, we dynamically update $\\theta^T$ by re-estimating the parameter with an increasing sample of 1 year. \n",
    "* Nt is dynamically updated every year by using the variable **Nt_counter**. \n",
    "* The parametric portfolio weights are calculated using the updated $\\theta^T$ and Nt, every month for the next year.\n"
   ],
   "id": "667fb8c5ef9a8600"
  },
  {
   "metadata": {
    "ExecuteTime": {
     "end_time": "2025-03-27T16:49:57.829879Z",
     "start_time": "2025-03-27T16:48:41.761115Z"
    }
   },
   "cell_type": "code",
   "source": [
    "import numpy as np\n",
    "import pandas as pd\n",
    "from scipy.optimize import minimize\n",
    "\n",
    "def run_out_of_sample_backtest(start_year='1974-01'):\n",
    "    results = []\n",
    "    dates = df_avg_ind_rets.index\n",
    "\n",
    "    for year in range(1974, int(dates[-1][:4])):  \n",
    "        print(f\"Processing year: {year}\")  # Track progress\n",
    "\n",
    "        # Split in-sample (estimation) and out-of-sample (OOS) dates\n",
    "        estimation_dates = dates[dates < f\"{year}-01\"]\n",
    "        oos_dates = dates[(dates >= f\"{year}-01\") & (dates < f\"{year+1}-01\")]\n",
    "\n",
    "        # Optimize theta using estimation data\n",
    "        theta1,theta2,theta3 = theta_estimate[0], theta_estimate[1],theta_estimate[2]\n",
    "        res = minimize(objective, [theta1, theta2, theta3], args=(estimation_dates,), method='Nelder-Mead')\n",
    "        theta_size, theta_bm, theta_mom = res.x\n",
    "\n",
    "        # Preload out-of-sample data as NumPy arrays\n",
    "        market_cap_portfolio = df_market_cap_portfolio.loc[oos_dates].values\n",
    "        size_factors = standardized_market_cap.loc[oos_dates].values\n",
    "        bm_factors = standardized_book_to_market.loc[oos_dates].values\n",
    "        mom_factors = standardized_momentum.loc[oos_dates].values\n",
    "        avg_ind_rets = df_avg_ind_rets.loc[oos_dates].values\n",
    "        nt_values = Nt_tracker.loc[oos_dates, \"Nt\"].values  # Get valid asset counts\n",
    "\n",
    "        for t in range(len(oos_dates) - 1):\n",
    "            date_t = oos_dates[t]\n",
    "            date_t1 = oos_dates[t + 1]\n",
    "\n",
    "            w_hat = market_cap_portfolio[t].astype(float)\n",
    "            x_size = size_factors[t].astype(float)\n",
    "            x_bm = bm_factors[t].astype(float)\n",
    "            x_mom = mom_factors[t].astype(float)\n",
    "\n",
    "            num_valid = max(nt_values[t], 1)  # Avoid division by zero\n",
    "\n",
    "            # Compute tilt and adjust weights\n",
    "            tilt = (theta_size * x_size + theta_bm * x_bm + theta_mom * x_mom) / num_valid\n",
    "            weights = w_hat + tilt\n",
    "\n",
    "            # Renormalize weights (Equation 16)\n",
    "            weights = weights / np.nansum(weights)\n",
    "\n",
    "            # Compute portfolio return\n",
    "            r_next = avg_ind_rets[t + 1]  # Next period return\n",
    "            r_p = np.dot(np.nan_to_num(weights), np.nan_to_num(r_next))\n",
    "\n",
    "            results.append({'date': date_t1, 'portfolio_return': r_p})\n",
    "\n",
    "    # Convert results to DataFrame\n",
    "    result_df = pd.DataFrame(results).set_index('date')\n",
    "\n",
    "    # Compute performance metrics\n",
    "    mean_monthly = result_df['portfolio_return'].mean()\n",
    "    std_monthly = result_df['portfolio_return'].std()\n",
    "    annualized_return = mean_monthly * 12\n",
    "    annualized_std = std_monthly * np.sqrt(12)\n",
    "    sharpe_ratio = annualized_return / annualized_std\n",
    "\n",
    "    return result_df, annualized_return, annualized_std, sharpe_ratio\n",
    "\n",
    "# Run out-of-sample backtest\n",
    "out_sample_results, annual_ret, annual_std, sharpe = run_out_of_sample_backtest()\n",
    "print('results', out_sample_results)\n",
    "print('annual rets', annual_ret)\n",
    "print('annual std', annual_std)\n",
    "print('sharpe', sharpe)\n"
   ],
   "id": "cfcb6bc98b005ad",
   "outputs": [
    {
     "name": "stdout",
     "output_type": "stream",
     "text": [
      "Processing year: 1974\n",
      "Processing year: 1975\n",
      "Processing year: 1976\n",
      "Processing year: 1977\n",
      "Processing year: 1978\n",
      "Processing year: 1979\n",
      "Processing year: 1980\n",
      "Processing year: 1981\n",
      "Processing year: 1982\n",
      "Processing year: 1983\n",
      "Processing year: 1984\n",
      "Processing year: 1985\n",
      "Processing year: 1986\n",
      "Processing year: 1987\n",
      "Processing year: 1988\n",
      "Processing year: 1989\n",
      "Processing year: 1990\n",
      "Processing year: 1991\n",
      "Processing year: 1992\n",
      "Processing year: 1993\n",
      "Processing year: 1994\n",
      "Processing year: 1995\n",
      "Processing year: 1996\n",
      "Processing year: 1997\n",
      "Processing year: 1998\n",
      "Processing year: 1999\n",
      "Processing year: 2000\n",
      "Processing year: 2001\n",
      "Processing year: 2002\n",
      "Processing year: 2003\n",
      "Processing year: 2004\n",
      "Processing year: 2005\n",
      "Processing year: 2006\n",
      "Processing year: 2007\n",
      "Processing year: 2008\n",
      "Processing year: 2009\n",
      "Processing year: 2010\n",
      "Processing year: 2011\n",
      "Processing year: 2012\n",
      "Processing year: 2013\n",
      "Processing year: 2014\n",
      "Processing year: 2015\n",
      "Processing year: 2016\n",
      "Processing year: 2017\n",
      "Processing year: 2018\n",
      "Processing year: 2019\n",
      "Processing year: 2020\n",
      "Processing year: 2021\n",
      "Processing year: 2022\n",
      "Processing year: 2023\n",
      "results          portfolio_return\n",
      "date                     \n",
      "1974-02          0.112341\n",
      "1974-03         -2.256052\n",
      "1974-04         -4.566250\n",
      "1974-05         -4.032475\n",
      "1974-06         -2.197016\n",
      "...                   ...\n",
      "2023-08         -1.894178\n",
      "2023-09         -4.810314\n",
      "2023-10         -2.632478\n",
      "2023-11          9.314880\n",
      "2023-12          5.201453\n",
      "\n",
      "[550 rows x 1 columns]\n",
      "annual rets 11.655640158931066\n",
      "annual std 15.684708178132551\n",
      "sharpe 0.7431212634979867\n"
     ]
    }
   ],
   "execution_count": 20
  },
  {
   "metadata": {
    "ExecuteTime": {
     "end_time": "2025-03-27T17:19:28.098234Z",
     "start_time": "2025-03-27T17:19:28.068477Z"
    }
   },
   "cell_type": "code",
   "source": "print(out_sample_results)",
   "id": "bab59ca06a8148f3",
   "outputs": [
    {
     "name": "stdout",
     "output_type": "stream",
     "text": [
      "         portfolio_return\n",
      "date                     \n",
      "1974-02          0.112341\n",
      "1974-03         -2.256052\n",
      "1974-04         -4.566250\n",
      "1974-05         -4.032475\n",
      "1974-06         -2.197016\n",
      "...                   ...\n",
      "2023-08         -1.894178\n",
      "2023-09         -4.810314\n",
      "2023-10         -2.632478\n",
      "2023-11          9.314880\n",
      "2023-12          5.201453\n",
      "\n",
      "[550 rows x 1 columns]\n"
     ]
    }
   ],
   "execution_count": 28
  },
  {
   "metadata": {},
   "cell_type": "markdown",
   "source": "### Comparison between in-sample and out-of-sample performance",
   "id": "bbece739afeb9be4"
  },
  {
   "metadata": {
    "ExecuteTime": {
     "end_time": "2025-03-27T17:20:33.067443Z",
     "start_time": "2025-03-27T17:20:33.060510Z"
    }
   },
   "cell_type": "code",
   "source": [
    "# Percentage improvement for all performance metrics\n",
    "annual_ret_improvement = ((annual_ret - annual_ret_in_sample) / annual_ret_in_sample) * 100\n",
    "vol_improvement = ((annual_vol_in_sample- annual_std) / annual_vol_in_sample) * 100\n",
    "sharpe_improvement = ((sharpe - sharpe_in_sample) / sharpe_in_sample) * 100\n",
    "\n",
    "# Display results\n",
    "print(f\"Annual Return Improvement: {annual_ret_improvement:.2f}%\")\n",
    "print(f\"Volatility Improvement: {vol_improvement:.2f}%\")\n",
    "print(f\"Sharpe Ratio Improvement: {sharpe_improvement:.2f}%\")"
   ],
   "id": "cf9e3987164e3dbe",
   "outputs": [
    {
     "name": "stdout",
     "output_type": "stream",
     "text": [
      "Annual Return Improvement: 0.86%\n",
      "Volatility Improvement: 14.41%\n",
      "Sharpe Ratio Improvement: 17.83%\n"
     ]
    }
   ],
   "execution_count": 29
  },
  {
   "metadata": {},
   "cell_type": "markdown",
   "source": "### Wealth evolution",
   "id": "2e0cd0b5b057eda1"
  },
  {
   "metadata": {
    "ExecuteTime": {
     "end_time": "2025-03-27T17:36:54.138416Z",
     "start_time": "2025-03-27T17:36:54.012096Z"
    }
   },
   "cell_type": "code",
   "source": [
    "import matplotlib.pyplot as plt\n",
    "import pandas as pd\n",
    "import numpy as np\n",
    "\n",
    "# Initial portfolio value\n",
    "initial_portfolio_value = 10000\n",
    "\n",
    "# Calculate portfolio returns based on df_market_cap_portfolio and df_avg_ind_rets\n",
    "portfolio_value = [initial_portfolio_value]\n",
    "\n",
    "for i in range(1, len(df_market_cap_portfolio)):\n",
    "    # Portfolio weights for the current time step (date)\n",
    "    weights = df_market_cap_portfolio.iloc[i].values\n",
    "    \n",
    "    # Corresponding average returns for the current time step (date)\n",
    "    returns = df_avg_ind_rets.iloc[i].values / 100  # Convert percentage returns to decimals\n",
    "    \n",
    "    # Calculate the portfolio return for the current month\n",
    "    portfolio_return = np.dot(weights, returns)\n",
    "    \n",
    "    # Update the portfolio value\n",
    "    new_portfolio_value = portfolio_value[-1] * (1 + portfolio_return)\n",
    "    portfolio_value.append(new_portfolio_value)\n",
    "\n",
    "# Convert portfolio value list into a pandas series\n",
    "portfolio_value_series = pd.Series(portfolio_value, index=df_market_cap_portfolio.index)\n",
    "\n",
    "# Plot wealth over time\n",
    "plt.figure(figsize=(10, 6))\n",
    "plt.plot(portfolio_value_series.index, portfolio_value_series, label='Market Cap Portfolio', color='grey')\n",
    "plt.title('Cumulative Portfolio Value for Market Cap Portfolio', fontsize=14)\n",
    "plt.xlabel('Date', fontsize=12)\n",
    "plt.ylabel('Portfolio Value ($)', fontsize=12)\n",
    "plt.legend()\n",
    "\n",
    "# tick interval setting\n",
    "tick_positions = range(0, len(portfolio_value_series), int(len(portfolio_value_series) / 5)) \n",
    "#select range\n",
    "tick_labels = [str(year) for year in range(1970, 2024, 10)]  \n",
    "plt.xticks(ticks=tick_positions, labels=tick_labels, rotation=45)\n",
    "plt.tight_layout()\n",
    "plt.show()\n"
   ],
   "id": "5da58290caad9ad5",
   "outputs": [
    {
     "data": {
      "text/plain": [
       "<Figure size 1000x600 with 1 Axes>"
      ],
      "image/png": "[encoded data removed]"
     },
     "metadata": {},
     "output_type": "display_data"
    }
   ],
   "execution_count": 51
  },
  {
   "metadata": {
    "ExecuteTime": {
     "end_time": "2025-03-27T17:42:02.819834Z",
     "start_time": "2025-03-27T17:42:02.712961Z"
    }
   },
   "cell_type": "code",
   "source": [
    "import matplotlib.pyplot as plt\n",
    "import pandas as pd\n",
    "import numpy as np\n",
    "import matplotlib.ticker as ticker\n",
    "\n",
    "# Initial portfolio value\n",
    "initial_portfolio_value = 10000\n",
    "\n",
    "# Calculate cumulative return for the Parametric Portfolio (out_sample_results)\n",
    "parametric_portfolio_value = [initial_portfolio_value]\n",
    "for i in range(1, len(out_sample_results)):\n",
    "    portfolio_return = out_sample_results['portfolio_return'].iloc[i] / 100  # Convert percentage returns to decimals\n",
    "    new_portfolio_value = parametric_portfolio_value[-1] * (1 + portfolio_return)\n",
    "    parametric_portfolio_value.append(new_portfolio_value)\n",
    "\n",
    "# Convert parametric portfolio value list into a pandas series\n",
    "parametric_portfolio_value_series = pd.Series(parametric_portfolio_value, index=out_sample_results.index)\n",
    "\n",
    "# Plot the Parametric Portfolio cumulative returns\n",
    "plt.figure(figsize=(10, 6))\n",
    "plt.plot(parametric_portfolio_value_series.index, parametric_portfolio_value_series, label='Parametric Portfolio', color='green', linewidth=2)\n",
    "plt.title('Cumulative Portfolio Value for Parametric Portfolio', fontsize=14)\n",
    "plt.xlabel('Date', fontsize=12)\n",
    "plt.ylabel('Portfolio Value ($)', fontsize=12)\n",
    "plt.legend()\n",
    "\n",
    "# Manually set x-ticks for every decade\n",
    "tick_positions = np.linspace(0, len(parametric_portfolio_value_series) - 1, num=6, dtype=int)  # Calculate positions dynamically for 6 labels\n",
    "tick_labels = [str(year) for year in range(1970, 2024, 10)]  # Adjust required range\n",
    "\n",
    "#set x y labels and ticks\n",
    "plt.xticks(ticks=tick_positions, labels=tick_labels, rotation=45)\n",
    "plt.gca().yaxis.set_major_formatter(ticker.FuncFormatter(lambda x, pos: f'${x:,.0f}'))\n",
    "\n",
    "plt.tight_layout()\n",
    "plt.show()\n"
   ],
   "id": "f379a902ef779122",
   "outputs": [
    {
     "data": {
      "text/plain": [
       "<Figure size 1000x600 with 1 Axes>"
      ],
      "image/png": "[encoded data removed]"
     },
     "metadata": {},
     "output_type": "display_data"
    }
   ],
   "execution_count": 59
  }
 ],
 "metadata": {
  "kernelspec": {
   "display_name": "Python 3",
   "language": "python",
   "name": "python3"
  },
  "language_info": {
   "codemirror_mode": {
    "name": "ipython",
    "version": 2
   },
   "file_extension": ".py",
   "mimetype": "text/x-python",
   "name": "python",
   "nbconvert_exporter": "python",
   "pygments_lexer": "ipython2",
   "version": "2.7.6"
  }
 },
 "nbformat": 4,
 "nbformat_minor": 5
}
